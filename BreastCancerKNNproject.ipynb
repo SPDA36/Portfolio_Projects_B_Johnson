{
 "cells": [
  {
   "cell_type": "markdown",
   "id": "a00586b0-d15a-48a9-9532-d1c63211e2a4",
   "metadata": {},
   "source": [
    "# Purpose\n",
    "\n",
    "The purpose of this project is to apply the use of K Nearest Neighbors alorithmn in a KNN model.  Atfer producing the intial model, the next purpose it to optimize the KNN model by deciding on which k-value to use.  This project will use a common breast cancer dataset to model.  The primary focus is on modeling rather than data analysis that has been demonstrated in previous projects that used this dataset."
   ]
  },
  {
   "cell_type": "code",
   "execution_count": 1,
   "id": "8e6bf0b6-9f46-498a-93e5-6e53c2f38200",
   "metadata": {},
   "outputs": [],
   "source": [
    "import pandas as pd\n",
    "import numpy as np\n",
    "import matplotlib.pyplot as plt\n",
    "import seaborn as sns\n",
    "sns.set()\n",
    "\n",
    "import itertools"
   ]
  },
  {
   "cell_type": "code",
   "execution_count": 2,
   "id": "39f5a17a-5693-4f22-aa88-2c7488df166a",
   "metadata": {},
   "outputs": [],
   "source": [
    "df1 = pd.read_csv('C:\\\\Users\\\\JB\\\\PracPythonCoding\\\\Full Stack Data Scientist Bootcamp\\\\02 Python Dataset\\\\datasets\\\\wisc_bc_data.csv')"
   ]
  },
  {
   "cell_type": "code",
   "execution_count": 3,
   "id": "c524948c-66e6-484f-9376-f8976b2fc8f8",
   "metadata": {},
   "outputs": [
    {
     "data": {
      "text/html": [
       "<div>\n",
       "<style scoped>\n",
       "    .dataframe tbody tr th:only-of-type {\n",
       "        vertical-align: middle;\n",
       "    }\n",
       "\n",
       "    .dataframe tbody tr th {\n",
       "        vertical-align: top;\n",
       "    }\n",
       "\n",
       "    .dataframe thead th {\n",
       "        text-align: right;\n",
       "    }\n",
       "</style>\n",
       "<table border=\"1\" class=\"dataframe\">\n",
       "  <thead>\n",
       "    <tr style=\"text-align: right;\">\n",
       "      <th></th>\n",
       "      <th>id</th>\n",
       "      <th>diagnosis</th>\n",
       "      <th>radius_mean</th>\n",
       "      <th>texture_mean</th>\n",
       "      <th>perimeter_mean</th>\n",
       "      <th>area_mean</th>\n",
       "      <th>smoothness_mean</th>\n",
       "      <th>compactness_mean</th>\n",
       "      <th>concavity_mean</th>\n",
       "      <th>points_mean</th>\n",
       "      <th>...</th>\n",
       "      <th>radius_worst</th>\n",
       "      <th>texture_worst</th>\n",
       "      <th>perimeter_worst</th>\n",
       "      <th>area_worst</th>\n",
       "      <th>smoothness_worst</th>\n",
       "      <th>compactness_worst</th>\n",
       "      <th>concavity_worst</th>\n",
       "      <th>points_worst</th>\n",
       "      <th>symmetry_worst</th>\n",
       "      <th>dimension_worst</th>\n",
       "    </tr>\n",
       "  </thead>\n",
       "  <tbody>\n",
       "    <tr>\n",
       "      <th>0</th>\n",
       "      <td>87139402</td>\n",
       "      <td>B</td>\n",
       "      <td>12.32</td>\n",
       "      <td>12.39</td>\n",
       "      <td>78.85</td>\n",
       "      <td>464.1</td>\n",
       "      <td>0.10280</td>\n",
       "      <td>0.06981</td>\n",
       "      <td>0.03987</td>\n",
       "      <td>0.03700</td>\n",
       "      <td>...</td>\n",
       "      <td>13.50</td>\n",
       "      <td>15.64</td>\n",
       "      <td>86.97</td>\n",
       "      <td>549.1</td>\n",
       "      <td>0.1385</td>\n",
       "      <td>0.1266</td>\n",
       "      <td>0.12420</td>\n",
       "      <td>0.09391</td>\n",
       "      <td>0.2827</td>\n",
       "      <td>0.06771</td>\n",
       "    </tr>\n",
       "    <tr>\n",
       "      <th>1</th>\n",
       "      <td>8910251</td>\n",
       "      <td>B</td>\n",
       "      <td>10.60</td>\n",
       "      <td>18.95</td>\n",
       "      <td>69.28</td>\n",
       "      <td>346.4</td>\n",
       "      <td>0.09688</td>\n",
       "      <td>0.11470</td>\n",
       "      <td>0.06387</td>\n",
       "      <td>0.02642</td>\n",
       "      <td>...</td>\n",
       "      <td>11.88</td>\n",
       "      <td>22.94</td>\n",
       "      <td>78.28</td>\n",
       "      <td>424.8</td>\n",
       "      <td>0.1213</td>\n",
       "      <td>0.2515</td>\n",
       "      <td>0.19160</td>\n",
       "      <td>0.07926</td>\n",
       "      <td>0.2940</td>\n",
       "      <td>0.07587</td>\n",
       "    </tr>\n",
       "    <tr>\n",
       "      <th>2</th>\n",
       "      <td>905520</td>\n",
       "      <td>B</td>\n",
       "      <td>11.04</td>\n",
       "      <td>16.83</td>\n",
       "      <td>70.92</td>\n",
       "      <td>373.2</td>\n",
       "      <td>0.10770</td>\n",
       "      <td>0.07804</td>\n",
       "      <td>0.03046</td>\n",
       "      <td>0.02480</td>\n",
       "      <td>...</td>\n",
       "      <td>12.41</td>\n",
       "      <td>26.44</td>\n",
       "      <td>79.93</td>\n",
       "      <td>471.4</td>\n",
       "      <td>0.1369</td>\n",
       "      <td>0.1482</td>\n",
       "      <td>0.10670</td>\n",
       "      <td>0.07431</td>\n",
       "      <td>0.2998</td>\n",
       "      <td>0.07881</td>\n",
       "    </tr>\n",
       "    <tr>\n",
       "      <th>3</th>\n",
       "      <td>868871</td>\n",
       "      <td>B</td>\n",
       "      <td>11.28</td>\n",
       "      <td>13.39</td>\n",
       "      <td>73.00</td>\n",
       "      <td>384.8</td>\n",
       "      <td>0.11640</td>\n",
       "      <td>0.11360</td>\n",
       "      <td>0.04635</td>\n",
       "      <td>0.04796</td>\n",
       "      <td>...</td>\n",
       "      <td>11.92</td>\n",
       "      <td>15.77</td>\n",
       "      <td>76.53</td>\n",
       "      <td>434.0</td>\n",
       "      <td>0.1367</td>\n",
       "      <td>0.1822</td>\n",
       "      <td>0.08669</td>\n",
       "      <td>0.08611</td>\n",
       "      <td>0.2102</td>\n",
       "      <td>0.06784</td>\n",
       "    </tr>\n",
       "    <tr>\n",
       "      <th>4</th>\n",
       "      <td>9012568</td>\n",
       "      <td>B</td>\n",
       "      <td>15.19</td>\n",
       "      <td>13.21</td>\n",
       "      <td>97.65</td>\n",
       "      <td>711.8</td>\n",
       "      <td>0.07963</td>\n",
       "      <td>0.06934</td>\n",
       "      <td>0.03393</td>\n",
       "      <td>0.02657</td>\n",
       "      <td>...</td>\n",
       "      <td>16.20</td>\n",
       "      <td>15.73</td>\n",
       "      <td>104.50</td>\n",
       "      <td>819.1</td>\n",
       "      <td>0.1126</td>\n",
       "      <td>0.1737</td>\n",
       "      <td>0.13620</td>\n",
       "      <td>0.08178</td>\n",
       "      <td>0.2487</td>\n",
       "      <td>0.06766</td>\n",
       "    </tr>\n",
       "  </tbody>\n",
       "</table>\n",
       "<p>5 rows × 32 columns</p>\n",
       "</div>"
      ],
      "text/plain": [
       "         id diagnosis  radius_mean  texture_mean  perimeter_mean  area_mean  \\\n",
       "0  87139402         B        12.32         12.39           78.85      464.1   \n",
       "1   8910251         B        10.60         18.95           69.28      346.4   \n",
       "2    905520         B        11.04         16.83           70.92      373.2   \n",
       "3    868871         B        11.28         13.39           73.00      384.8   \n",
       "4   9012568         B        15.19         13.21           97.65      711.8   \n",
       "\n",
       "   smoothness_mean  compactness_mean  concavity_mean  points_mean  ...  \\\n",
       "0          0.10280           0.06981         0.03987      0.03700  ...   \n",
       "1          0.09688           0.11470         0.06387      0.02642  ...   \n",
       "2          0.10770           0.07804         0.03046      0.02480  ...   \n",
       "3          0.11640           0.11360         0.04635      0.04796  ...   \n",
       "4          0.07963           0.06934         0.03393      0.02657  ...   \n",
       "\n",
       "   radius_worst  texture_worst  perimeter_worst  area_worst  smoothness_worst  \\\n",
       "0         13.50          15.64            86.97       549.1            0.1385   \n",
       "1         11.88          22.94            78.28       424.8            0.1213   \n",
       "2         12.41          26.44            79.93       471.4            0.1369   \n",
       "3         11.92          15.77            76.53       434.0            0.1367   \n",
       "4         16.20          15.73           104.50       819.1            0.1126   \n",
       "\n",
       "   compactness_worst  concavity_worst  points_worst  symmetry_worst  \\\n",
       "0             0.1266          0.12420       0.09391          0.2827   \n",
       "1             0.2515          0.19160       0.07926          0.2940   \n",
       "2             0.1482          0.10670       0.07431          0.2998   \n",
       "3             0.1822          0.08669       0.08611          0.2102   \n",
       "4             0.1737          0.13620       0.08178          0.2487   \n",
       "\n",
       "   dimension_worst  \n",
       "0          0.06771  \n",
       "1          0.07587  \n",
       "2          0.07881  \n",
       "3          0.06784  \n",
       "4          0.06766  \n",
       "\n",
       "[5 rows x 32 columns]"
      ]
     },
     "execution_count": 3,
     "metadata": {},
     "output_type": "execute_result"
    }
   ],
   "source": [
    "df1.head()"
   ]
  },
  {
   "cell_type": "markdown",
   "id": "823c2596-026c-446d-9113-b18adae8c9b5",
   "metadata": {},
   "source": [
    "# Values Analysis"
   ]
  },
  {
   "cell_type": "code",
   "execution_count": 4,
   "id": "0c617f79-b3f6-4e3f-bbc5-0555522a8663",
   "metadata": {},
   "outputs": [
    {
     "name": "stdout",
     "output_type": "stream",
     "text": [
      "<class 'pandas.core.frame.DataFrame'>\n",
      "RangeIndex: 569 entries, 0 to 568\n",
      "Data columns (total 32 columns):\n",
      " #   Column             Non-Null Count  Dtype  \n",
      "---  ------             --------------  -----  \n",
      " 0   id                 569 non-null    int64  \n",
      " 1   diagnosis          569 non-null    object \n",
      " 2   radius_mean        569 non-null    float64\n",
      " 3   texture_mean       569 non-null    float64\n",
      " 4   perimeter_mean     569 non-null    float64\n",
      " 5   area_mean          569 non-null    float64\n",
      " 6   smoothness_mean    569 non-null    float64\n",
      " 7   compactness_mean   569 non-null    float64\n",
      " 8   concavity_mean     569 non-null    float64\n",
      " 9   points_mean        569 non-null    float64\n",
      " 10  symmetry_mean      569 non-null    float64\n",
      " 11  dimension_mean     569 non-null    float64\n",
      " 12  radius_se          569 non-null    float64\n",
      " 13  texture_se         569 non-null    float64\n",
      " 14  perimeter_se       569 non-null    float64\n",
      " 15  area_se            569 non-null    float64\n",
      " 16  smoothness_se      569 non-null    float64\n",
      " 17  compactness_se     569 non-null    float64\n",
      " 18  concavity_se       569 non-null    float64\n",
      " 19  points_se          569 non-null    float64\n",
      " 20  symmetry_se        569 non-null    float64\n",
      " 21  dimension_se       569 non-null    float64\n",
      " 22  radius_worst       569 non-null    float64\n",
      " 23  texture_worst      569 non-null    float64\n",
      " 24  perimeter_worst    569 non-null    float64\n",
      " 25  area_worst         569 non-null    float64\n",
      " 26  smoothness_worst   569 non-null    float64\n",
      " 27  compactness_worst  569 non-null    float64\n",
      " 28  concavity_worst    569 non-null    float64\n",
      " 29  points_worst       569 non-null    float64\n",
      " 30  symmetry_worst     569 non-null    float64\n",
      " 31  dimension_worst    569 non-null    float64\n",
      "dtypes: float64(30), int64(1), object(1)\n",
      "memory usage: 142.4+ KB\n"
     ]
    }
   ],
   "source": [
    "df1.info()"
   ]
  },
  {
   "cell_type": "code",
   "execution_count": 5,
   "id": "580883e9-c5d7-49a2-a932-d984502f7ba0",
   "metadata": {},
   "outputs": [
    {
     "data": {
      "text/plain": [
       "id                   0\n",
       "diagnosis            0\n",
       "radius_mean          0\n",
       "texture_mean         0\n",
       "perimeter_mean       0\n",
       "area_mean            0\n",
       "smoothness_mean      0\n",
       "compactness_mean     0\n",
       "concavity_mean       0\n",
       "points_mean          0\n",
       "symmetry_mean        0\n",
       "dimension_mean       0\n",
       "radius_se            0\n",
       "texture_se           0\n",
       "perimeter_se         0\n",
       "area_se              0\n",
       "smoothness_se        0\n",
       "compactness_se       0\n",
       "concavity_se         0\n",
       "points_se            0\n",
       "symmetry_se          0\n",
       "dimension_se         0\n",
       "radius_worst         0\n",
       "texture_worst        0\n",
       "perimeter_worst      0\n",
       "area_worst           0\n",
       "smoothness_worst     0\n",
       "compactness_worst    0\n",
       "concavity_worst      0\n",
       "points_worst         0\n",
       "symmetry_worst       0\n",
       "dimension_worst      0\n",
       "dtype: int64"
      ]
     },
     "execution_count": 5,
     "metadata": {},
     "output_type": "execute_result"
    }
   ],
   "source": [
    "df1.isnull().sum()"
   ]
  },
  {
   "cell_type": "code",
   "execution_count": 6,
   "id": "d6de45d0-0570-43bd-bbc2-7d46c59c60b3",
   "metadata": {},
   "outputs": [
    {
     "data": {
      "text/html": [
       "<div>\n",
       "<style scoped>\n",
       "    .dataframe tbody tr th:only-of-type {\n",
       "        vertical-align: middle;\n",
       "    }\n",
       "\n",
       "    .dataframe tbody tr th {\n",
       "        vertical-align: top;\n",
       "    }\n",
       "\n",
       "    .dataframe thead th {\n",
       "        text-align: right;\n",
       "    }\n",
       "</style>\n",
       "<table border=\"1\" class=\"dataframe\">\n",
       "  <thead>\n",
       "    <tr style=\"text-align: right;\">\n",
       "      <th></th>\n",
       "      <th>count</th>\n",
       "      <th>mean</th>\n",
       "      <th>std</th>\n",
       "      <th>min</th>\n",
       "      <th>25%</th>\n",
       "      <th>50%</th>\n",
       "      <th>75%</th>\n",
       "      <th>max</th>\n",
       "    </tr>\n",
       "  </thead>\n",
       "  <tbody>\n",
       "    <tr>\n",
       "      <th>id</th>\n",
       "      <td>569.0</td>\n",
       "      <td>3.037183e+07</td>\n",
       "      <td>1.250206e+08</td>\n",
       "      <td>8670.000000</td>\n",
       "      <td>869218.000000</td>\n",
       "      <td>906024.000000</td>\n",
       "      <td>8.813129e+06</td>\n",
       "      <td>9.113205e+08</td>\n",
       "    </tr>\n",
       "    <tr>\n",
       "      <th>radius_mean</th>\n",
       "      <td>569.0</td>\n",
       "      <td>1.412729e+01</td>\n",
       "      <td>3.524049e+00</td>\n",
       "      <td>6.981000</td>\n",
       "      <td>11.700000</td>\n",
       "      <td>13.370000</td>\n",
       "      <td>1.578000e+01</td>\n",
       "      <td>2.811000e+01</td>\n",
       "    </tr>\n",
       "    <tr>\n",
       "      <th>texture_mean</th>\n",
       "      <td>569.0</td>\n",
       "      <td>1.928965e+01</td>\n",
       "      <td>4.301036e+00</td>\n",
       "      <td>9.710000</td>\n",
       "      <td>16.170000</td>\n",
       "      <td>18.840000</td>\n",
       "      <td>2.180000e+01</td>\n",
       "      <td>3.928000e+01</td>\n",
       "    </tr>\n",
       "    <tr>\n",
       "      <th>perimeter_mean</th>\n",
       "      <td>569.0</td>\n",
       "      <td>9.196903e+01</td>\n",
       "      <td>2.429898e+01</td>\n",
       "      <td>43.790000</td>\n",
       "      <td>75.170000</td>\n",
       "      <td>86.240000</td>\n",
       "      <td>1.041000e+02</td>\n",
       "      <td>1.885000e+02</td>\n",
       "    </tr>\n",
       "    <tr>\n",
       "      <th>area_mean</th>\n",
       "      <td>569.0</td>\n",
       "      <td>6.548891e+02</td>\n",
       "      <td>3.519141e+02</td>\n",
       "      <td>143.500000</td>\n",
       "      <td>420.300000</td>\n",
       "      <td>551.100000</td>\n",
       "      <td>7.827000e+02</td>\n",
       "      <td>2.501000e+03</td>\n",
       "    </tr>\n",
       "    <tr>\n",
       "      <th>smoothness_mean</th>\n",
       "      <td>569.0</td>\n",
       "      <td>9.636028e-02</td>\n",
       "      <td>1.406413e-02</td>\n",
       "      <td>0.052630</td>\n",
       "      <td>0.086370</td>\n",
       "      <td>0.095870</td>\n",
       "      <td>1.053000e-01</td>\n",
       "      <td>1.634000e-01</td>\n",
       "    </tr>\n",
       "    <tr>\n",
       "      <th>compactness_mean</th>\n",
       "      <td>569.0</td>\n",
       "      <td>1.043410e-01</td>\n",
       "      <td>5.281276e-02</td>\n",
       "      <td>0.019380</td>\n",
       "      <td>0.064920</td>\n",
       "      <td>0.092630</td>\n",
       "      <td>1.304000e-01</td>\n",
       "      <td>3.454000e-01</td>\n",
       "    </tr>\n",
       "    <tr>\n",
       "      <th>concavity_mean</th>\n",
       "      <td>569.0</td>\n",
       "      <td>8.879932e-02</td>\n",
       "      <td>7.971981e-02</td>\n",
       "      <td>0.000000</td>\n",
       "      <td>0.029560</td>\n",
       "      <td>0.061540</td>\n",
       "      <td>1.307000e-01</td>\n",
       "      <td>4.268000e-01</td>\n",
       "    </tr>\n",
       "    <tr>\n",
       "      <th>points_mean</th>\n",
       "      <td>569.0</td>\n",
       "      <td>4.891915e-02</td>\n",
       "      <td>3.880284e-02</td>\n",
       "      <td>0.000000</td>\n",
       "      <td>0.020310</td>\n",
       "      <td>0.033500</td>\n",
       "      <td>7.400000e-02</td>\n",
       "      <td>2.012000e-01</td>\n",
       "    </tr>\n",
       "    <tr>\n",
       "      <th>symmetry_mean</th>\n",
       "      <td>569.0</td>\n",
       "      <td>1.811619e-01</td>\n",
       "      <td>2.741428e-02</td>\n",
       "      <td>0.106000</td>\n",
       "      <td>0.161900</td>\n",
       "      <td>0.179200</td>\n",
       "      <td>1.957000e-01</td>\n",
       "      <td>3.040000e-01</td>\n",
       "    </tr>\n",
       "    <tr>\n",
       "      <th>dimension_mean</th>\n",
       "      <td>569.0</td>\n",
       "      <td>6.279761e-02</td>\n",
       "      <td>7.060363e-03</td>\n",
       "      <td>0.049960</td>\n",
       "      <td>0.057700</td>\n",
       "      <td>0.061540</td>\n",
       "      <td>6.612000e-02</td>\n",
       "      <td>9.744000e-02</td>\n",
       "    </tr>\n",
       "    <tr>\n",
       "      <th>radius_se</th>\n",
       "      <td>569.0</td>\n",
       "      <td>4.051721e-01</td>\n",
       "      <td>2.773127e-01</td>\n",
       "      <td>0.111500</td>\n",
       "      <td>0.232400</td>\n",
       "      <td>0.324200</td>\n",
       "      <td>4.789000e-01</td>\n",
       "      <td>2.873000e+00</td>\n",
       "    </tr>\n",
       "    <tr>\n",
       "      <th>texture_se</th>\n",
       "      <td>569.0</td>\n",
       "      <td>1.216853e+00</td>\n",
       "      <td>5.516484e-01</td>\n",
       "      <td>0.360200</td>\n",
       "      <td>0.833900</td>\n",
       "      <td>1.108000</td>\n",
       "      <td>1.474000e+00</td>\n",
       "      <td>4.885000e+00</td>\n",
       "    </tr>\n",
       "    <tr>\n",
       "      <th>perimeter_se</th>\n",
       "      <td>569.0</td>\n",
       "      <td>2.866059e+00</td>\n",
       "      <td>2.021855e+00</td>\n",
       "      <td>0.757000</td>\n",
       "      <td>1.606000</td>\n",
       "      <td>2.287000</td>\n",
       "      <td>3.357000e+00</td>\n",
       "      <td>2.198000e+01</td>\n",
       "    </tr>\n",
       "    <tr>\n",
       "      <th>area_se</th>\n",
       "      <td>569.0</td>\n",
       "      <td>4.033708e+01</td>\n",
       "      <td>4.549101e+01</td>\n",
       "      <td>6.802000</td>\n",
       "      <td>17.850000</td>\n",
       "      <td>24.530000</td>\n",
       "      <td>4.519000e+01</td>\n",
       "      <td>5.422000e+02</td>\n",
       "    </tr>\n",
       "    <tr>\n",
       "      <th>smoothness_se</th>\n",
       "      <td>569.0</td>\n",
       "      <td>7.040979e-03</td>\n",
       "      <td>3.002518e-03</td>\n",
       "      <td>0.001713</td>\n",
       "      <td>0.005169</td>\n",
       "      <td>0.006380</td>\n",
       "      <td>8.146000e-03</td>\n",
       "      <td>3.113000e-02</td>\n",
       "    </tr>\n",
       "    <tr>\n",
       "      <th>compactness_se</th>\n",
       "      <td>569.0</td>\n",
       "      <td>2.547814e-02</td>\n",
       "      <td>1.790818e-02</td>\n",
       "      <td>0.002252</td>\n",
       "      <td>0.013080</td>\n",
       "      <td>0.020450</td>\n",
       "      <td>3.245000e-02</td>\n",
       "      <td>1.354000e-01</td>\n",
       "    </tr>\n",
       "    <tr>\n",
       "      <th>concavity_se</th>\n",
       "      <td>569.0</td>\n",
       "      <td>3.189372e-02</td>\n",
       "      <td>3.018606e-02</td>\n",
       "      <td>0.000000</td>\n",
       "      <td>0.015090</td>\n",
       "      <td>0.025890</td>\n",
       "      <td>4.205000e-02</td>\n",
       "      <td>3.960000e-01</td>\n",
       "    </tr>\n",
       "    <tr>\n",
       "      <th>points_se</th>\n",
       "      <td>569.0</td>\n",
       "      <td>1.179614e-02</td>\n",
       "      <td>6.170285e-03</td>\n",
       "      <td>0.000000</td>\n",
       "      <td>0.007638</td>\n",
       "      <td>0.010930</td>\n",
       "      <td>1.471000e-02</td>\n",
       "      <td>5.279000e-02</td>\n",
       "    </tr>\n",
       "    <tr>\n",
       "      <th>symmetry_se</th>\n",
       "      <td>569.0</td>\n",
       "      <td>2.054230e-02</td>\n",
       "      <td>8.266372e-03</td>\n",
       "      <td>0.007882</td>\n",
       "      <td>0.015160</td>\n",
       "      <td>0.018730</td>\n",
       "      <td>2.348000e-02</td>\n",
       "      <td>7.895000e-02</td>\n",
       "    </tr>\n",
       "    <tr>\n",
       "      <th>dimension_se</th>\n",
       "      <td>569.0</td>\n",
       "      <td>3.794904e-03</td>\n",
       "      <td>2.646071e-03</td>\n",
       "      <td>0.000895</td>\n",
       "      <td>0.002248</td>\n",
       "      <td>0.003187</td>\n",
       "      <td>4.558000e-03</td>\n",
       "      <td>2.984000e-02</td>\n",
       "    </tr>\n",
       "    <tr>\n",
       "      <th>radius_worst</th>\n",
       "      <td>569.0</td>\n",
       "      <td>1.626919e+01</td>\n",
       "      <td>4.833242e+00</td>\n",
       "      <td>7.930000</td>\n",
       "      <td>13.010000</td>\n",
       "      <td>14.970000</td>\n",
       "      <td>1.879000e+01</td>\n",
       "      <td>3.604000e+01</td>\n",
       "    </tr>\n",
       "    <tr>\n",
       "      <th>texture_worst</th>\n",
       "      <td>569.0</td>\n",
       "      <td>2.567722e+01</td>\n",
       "      <td>6.146258e+00</td>\n",
       "      <td>12.020000</td>\n",
       "      <td>21.080000</td>\n",
       "      <td>25.410000</td>\n",
       "      <td>2.972000e+01</td>\n",
       "      <td>4.954000e+01</td>\n",
       "    </tr>\n",
       "    <tr>\n",
       "      <th>perimeter_worst</th>\n",
       "      <td>569.0</td>\n",
       "      <td>1.072612e+02</td>\n",
       "      <td>3.360254e+01</td>\n",
       "      <td>50.410000</td>\n",
       "      <td>84.110000</td>\n",
       "      <td>97.660000</td>\n",
       "      <td>1.254000e+02</td>\n",
       "      <td>2.512000e+02</td>\n",
       "    </tr>\n",
       "    <tr>\n",
       "      <th>area_worst</th>\n",
       "      <td>569.0</td>\n",
       "      <td>8.805831e+02</td>\n",
       "      <td>5.693570e+02</td>\n",
       "      <td>185.200000</td>\n",
       "      <td>515.300000</td>\n",
       "      <td>686.500000</td>\n",
       "      <td>1.084000e+03</td>\n",
       "      <td>4.254000e+03</td>\n",
       "    </tr>\n",
       "    <tr>\n",
       "      <th>smoothness_worst</th>\n",
       "      <td>569.0</td>\n",
       "      <td>1.323686e-01</td>\n",
       "      <td>2.283243e-02</td>\n",
       "      <td>0.071170</td>\n",
       "      <td>0.116600</td>\n",
       "      <td>0.131300</td>\n",
       "      <td>1.460000e-01</td>\n",
       "      <td>2.226000e-01</td>\n",
       "    </tr>\n",
       "    <tr>\n",
       "      <th>compactness_worst</th>\n",
       "      <td>569.0</td>\n",
       "      <td>2.542650e-01</td>\n",
       "      <td>1.573365e-01</td>\n",
       "      <td>0.027290</td>\n",
       "      <td>0.147200</td>\n",
       "      <td>0.211900</td>\n",
       "      <td>3.391000e-01</td>\n",
       "      <td>1.058000e+00</td>\n",
       "    </tr>\n",
       "    <tr>\n",
       "      <th>concavity_worst</th>\n",
       "      <td>569.0</td>\n",
       "      <td>2.721885e-01</td>\n",
       "      <td>2.086243e-01</td>\n",
       "      <td>0.000000</td>\n",
       "      <td>0.114500</td>\n",
       "      <td>0.226700</td>\n",
       "      <td>3.829000e-01</td>\n",
       "      <td>1.252000e+00</td>\n",
       "    </tr>\n",
       "    <tr>\n",
       "      <th>points_worst</th>\n",
       "      <td>569.0</td>\n",
       "      <td>1.146062e-01</td>\n",
       "      <td>6.573234e-02</td>\n",
       "      <td>0.000000</td>\n",
       "      <td>0.064930</td>\n",
       "      <td>0.099930</td>\n",
       "      <td>1.614000e-01</td>\n",
       "      <td>2.910000e-01</td>\n",
       "    </tr>\n",
       "    <tr>\n",
       "      <th>symmetry_worst</th>\n",
       "      <td>569.0</td>\n",
       "      <td>2.900756e-01</td>\n",
       "      <td>6.186747e-02</td>\n",
       "      <td>0.156500</td>\n",
       "      <td>0.250400</td>\n",
       "      <td>0.282200</td>\n",
       "      <td>3.179000e-01</td>\n",
       "      <td>6.638000e-01</td>\n",
       "    </tr>\n",
       "    <tr>\n",
       "      <th>dimension_worst</th>\n",
       "      <td>569.0</td>\n",
       "      <td>8.394582e-02</td>\n",
       "      <td>1.806127e-02</td>\n",
       "      <td>0.055040</td>\n",
       "      <td>0.071460</td>\n",
       "      <td>0.080040</td>\n",
       "      <td>9.208000e-02</td>\n",
       "      <td>2.075000e-01</td>\n",
       "    </tr>\n",
       "  </tbody>\n",
       "</table>\n",
       "</div>"
      ],
      "text/plain": [
       "                   count          mean           std          min  \\\n",
       "id                 569.0  3.037183e+07  1.250206e+08  8670.000000   \n",
       "radius_mean        569.0  1.412729e+01  3.524049e+00     6.981000   \n",
       "texture_mean       569.0  1.928965e+01  4.301036e+00     9.710000   \n",
       "perimeter_mean     569.0  9.196903e+01  2.429898e+01    43.790000   \n",
       "area_mean          569.0  6.548891e+02  3.519141e+02   143.500000   \n",
       "smoothness_mean    569.0  9.636028e-02  1.406413e-02     0.052630   \n",
       "compactness_mean   569.0  1.043410e-01  5.281276e-02     0.019380   \n",
       "concavity_mean     569.0  8.879932e-02  7.971981e-02     0.000000   \n",
       "points_mean        569.0  4.891915e-02  3.880284e-02     0.000000   \n",
       "symmetry_mean      569.0  1.811619e-01  2.741428e-02     0.106000   \n",
       "dimension_mean     569.0  6.279761e-02  7.060363e-03     0.049960   \n",
       "radius_se          569.0  4.051721e-01  2.773127e-01     0.111500   \n",
       "texture_se         569.0  1.216853e+00  5.516484e-01     0.360200   \n",
       "perimeter_se       569.0  2.866059e+00  2.021855e+00     0.757000   \n",
       "area_se            569.0  4.033708e+01  4.549101e+01     6.802000   \n",
       "smoothness_se      569.0  7.040979e-03  3.002518e-03     0.001713   \n",
       "compactness_se     569.0  2.547814e-02  1.790818e-02     0.002252   \n",
       "concavity_se       569.0  3.189372e-02  3.018606e-02     0.000000   \n",
       "points_se          569.0  1.179614e-02  6.170285e-03     0.000000   \n",
       "symmetry_se        569.0  2.054230e-02  8.266372e-03     0.007882   \n",
       "dimension_se       569.0  3.794904e-03  2.646071e-03     0.000895   \n",
       "radius_worst       569.0  1.626919e+01  4.833242e+00     7.930000   \n",
       "texture_worst      569.0  2.567722e+01  6.146258e+00    12.020000   \n",
       "perimeter_worst    569.0  1.072612e+02  3.360254e+01    50.410000   \n",
       "area_worst         569.0  8.805831e+02  5.693570e+02   185.200000   \n",
       "smoothness_worst   569.0  1.323686e-01  2.283243e-02     0.071170   \n",
       "compactness_worst  569.0  2.542650e-01  1.573365e-01     0.027290   \n",
       "concavity_worst    569.0  2.721885e-01  2.086243e-01     0.000000   \n",
       "points_worst       569.0  1.146062e-01  6.573234e-02     0.000000   \n",
       "symmetry_worst     569.0  2.900756e-01  6.186747e-02     0.156500   \n",
       "dimension_worst    569.0  8.394582e-02  1.806127e-02     0.055040   \n",
       "\n",
       "                             25%            50%           75%           max  \n",
       "id                 869218.000000  906024.000000  8.813129e+06  9.113205e+08  \n",
       "radius_mean            11.700000      13.370000  1.578000e+01  2.811000e+01  \n",
       "texture_mean           16.170000      18.840000  2.180000e+01  3.928000e+01  \n",
       "perimeter_mean         75.170000      86.240000  1.041000e+02  1.885000e+02  \n",
       "area_mean             420.300000     551.100000  7.827000e+02  2.501000e+03  \n",
       "smoothness_mean         0.086370       0.095870  1.053000e-01  1.634000e-01  \n",
       "compactness_mean        0.064920       0.092630  1.304000e-01  3.454000e-01  \n",
       "concavity_mean          0.029560       0.061540  1.307000e-01  4.268000e-01  \n",
       "points_mean             0.020310       0.033500  7.400000e-02  2.012000e-01  \n",
       "symmetry_mean           0.161900       0.179200  1.957000e-01  3.040000e-01  \n",
       "dimension_mean          0.057700       0.061540  6.612000e-02  9.744000e-02  \n",
       "radius_se               0.232400       0.324200  4.789000e-01  2.873000e+00  \n",
       "texture_se              0.833900       1.108000  1.474000e+00  4.885000e+00  \n",
       "perimeter_se            1.606000       2.287000  3.357000e+00  2.198000e+01  \n",
       "area_se                17.850000      24.530000  4.519000e+01  5.422000e+02  \n",
       "smoothness_se           0.005169       0.006380  8.146000e-03  3.113000e-02  \n",
       "compactness_se          0.013080       0.020450  3.245000e-02  1.354000e-01  \n",
       "concavity_se            0.015090       0.025890  4.205000e-02  3.960000e-01  \n",
       "points_se               0.007638       0.010930  1.471000e-02  5.279000e-02  \n",
       "symmetry_se             0.015160       0.018730  2.348000e-02  7.895000e-02  \n",
       "dimension_se            0.002248       0.003187  4.558000e-03  2.984000e-02  \n",
       "radius_worst           13.010000      14.970000  1.879000e+01  3.604000e+01  \n",
       "texture_worst          21.080000      25.410000  2.972000e+01  4.954000e+01  \n",
       "perimeter_worst        84.110000      97.660000  1.254000e+02  2.512000e+02  \n",
       "area_worst            515.300000     686.500000  1.084000e+03  4.254000e+03  \n",
       "smoothness_worst        0.116600       0.131300  1.460000e-01  2.226000e-01  \n",
       "compactness_worst       0.147200       0.211900  3.391000e-01  1.058000e+00  \n",
       "concavity_worst         0.114500       0.226700  3.829000e-01  1.252000e+00  \n",
       "points_worst            0.064930       0.099930  1.614000e-01  2.910000e-01  \n",
       "symmetry_worst          0.250400       0.282200  3.179000e-01  6.638000e-01  \n",
       "dimension_worst         0.071460       0.080040  9.208000e-02  2.075000e-01  "
      ]
     },
     "execution_count": 6,
     "metadata": {},
     "output_type": "execute_result"
    }
   ],
   "source": [
    "df1.describe().T"
   ]
  },
  {
   "cell_type": "markdown",
   "id": "d921e969-4966-456a-9823-48eedb46ebe2",
   "metadata": {},
   "source": [
    "**In the min column, there are some zero values.  I assume this is normal**"
   ]
  },
  {
   "cell_type": "code",
   "execution_count": 7,
   "id": "c1168581-2cc9-4c3b-a0f3-619759f46d7d",
   "metadata": {},
   "outputs": [],
   "source": [
    "col = df1.columns"
   ]
  },
  {
   "cell_type": "code",
   "execution_count": 8,
   "id": "77e3bf09-cf3c-4cdd-a162-495d0744a2cd",
   "metadata": {},
   "outputs": [
    {
     "name": "stdout",
     "output_type": "stream",
     "text": [
      "The number of unique values in column **id** are: 569\n",
      "\n",
      "The unique values in column **diagnosis** are: ['B' 'M']\n",
      "The number of unique values in column **diagnosis** are: 2\n",
      "\n",
      "The number of unique values in column **radius_mean** are: 456\n",
      "\n",
      "The number of unique values in column **texture_mean** are: 479\n",
      "\n",
      "The number of unique values in column **perimeter_mean** are: 522\n",
      "\n",
      "The number of unique values in column **area_mean** are: 539\n",
      "\n",
      "The number of unique values in column **smoothness_mean** are: 474\n",
      "\n",
      "The number of unique values in column **compactness_mean** are: 537\n",
      "\n",
      "The number of unique values in column **concavity_mean** are: 537\n",
      "\n",
      "The number of unique values in column **points_mean** are: 542\n",
      "\n",
      "The number of unique values in column **symmetry_mean** are: 432\n",
      "\n",
      "The number of unique values in column **dimension_mean** are: 499\n",
      "\n",
      "The number of unique values in column **radius_se** are: 540\n",
      "\n",
      "The number of unique values in column **texture_se** are: 519\n",
      "\n",
      "The number of unique values in column **perimeter_se** are: 533\n",
      "\n",
      "The number of unique values in column **area_se** are: 528\n",
      "\n",
      "The number of unique values in column **smoothness_se** are: 547\n",
      "\n",
      "The number of unique values in column **compactness_se** are: 541\n",
      "\n",
      "The number of unique values in column **concavity_se** are: 533\n",
      "\n",
      "The number of unique values in column **points_se** are: 507\n",
      "\n",
      "The number of unique values in column **symmetry_se** are: 498\n",
      "\n",
      "The number of unique values in column **dimension_se** are: 545\n",
      "\n",
      "The number of unique values in column **radius_worst** are: 457\n",
      "\n",
      "The number of unique values in column **texture_worst** are: 511\n",
      "\n",
      "The number of unique values in column **perimeter_worst** are: 514\n",
      "\n",
      "The number of unique values in column **area_worst** are: 544\n",
      "\n",
      "The number of unique values in column **smoothness_worst** are: 411\n",
      "\n",
      "The number of unique values in column **compactness_worst** are: 529\n",
      "\n",
      "The number of unique values in column **concavity_worst** are: 539\n",
      "\n",
      "The number of unique values in column **points_worst** are: 492\n",
      "\n",
      "The number of unique values in column **symmetry_worst** are: 500\n",
      "\n",
      "The number of unique values in column **dimension_worst** are: 535\n",
      "\n"
     ]
    }
   ],
   "source": [
    "for i in col:\n",
    "    if len(df1[i].unique()) < 20:\n",
    "        print('The unique values in column **{}** are: {}'.format(i,df1[i].unique()))\n",
    "        print('The number of unique values in column **{}** are: {}'.format(i,len(df1[i].unique())))\n",
    "        print('')\n",
    "    else:\n",
    "        print('The number of unique values in column **{}** are: {}'.format(i,len(df1[i].unique())))\n",
    "        print('')"
   ]
  },
  {
   "cell_type": "markdown",
   "id": "bd4abf4f-66da-48ae-a7a5-b4f799a30cd3",
   "metadata": {},
   "source": [
    "### Converting the Diagnosis column to categorical dtype"
   ]
  },
  {
   "cell_type": "code",
   "execution_count": 9,
   "id": "1b3c8ed8-66c3-4c9b-9778-d1deb3508b08",
   "metadata": {},
   "outputs": [
    {
     "name": "stdout",
     "output_type": "stream",
     "text": [
      "<class 'pandas.core.series.Series'>\n",
      "RangeIndex: 569 entries, 0 to 568\n",
      "Series name: diagnosis\n",
      "Non-Null Count  Dtype   \n",
      "--------------  -----   \n",
      "569 non-null    category\n",
      "dtypes: category(1)\n",
      "memory usage: 821.0 bytes\n"
     ]
    }
   ],
   "source": [
    "df1['diagnosis'] = df1['diagnosis'].astype('category')\n",
    "df1['diagnosis'].info()"
   ]
  },
  {
   "cell_type": "markdown",
   "id": "a3df2448-a0f7-4e5b-ab26-fe19072cfeea",
   "metadata": {},
   "source": [
    "**The Diagnosis is rather balanced so bias should be minimal**"
   ]
  },
  {
   "cell_type": "code",
   "execution_count": 10,
   "id": "507c6b62-7b2f-428d-a789-b9796dcdf449",
   "metadata": {},
   "outputs": [
    {
     "data": {
      "text/plain": [
       "B    357\n",
       "M    212\n",
       "Name: diagnosis, dtype: int64"
      ]
     },
     "execution_count": 10,
     "metadata": {},
     "output_type": "execute_result"
    }
   ],
   "source": [
    "df1['diagnosis'].value_counts()"
   ]
  },
  {
   "cell_type": "code",
   "execution_count": 11,
   "id": "8cd8f36e-3694-4fc8-bf11-2d4af6d3dff4",
   "metadata": {},
   "outputs": [],
   "source": [
    "df1.drop('id', axis=1, inplace=True)"
   ]
  },
  {
   "cell_type": "markdown",
   "id": "038f31dc-af8c-4c59-a15d-c10ac71deba9",
   "metadata": {},
   "source": [
    "# The Model"
   ]
  },
  {
   "cell_type": "code",
   "execution_count": 12,
   "id": "ad478081-1a24-447e-81fe-091308d2fbbe",
   "metadata": {},
   "outputs": [],
   "source": [
    "from sklearn.preprocessing import StandardScaler\n",
    "from sklearn.model_selection import train_test_split"
   ]
  },
  {
   "cell_type": "markdown",
   "id": "55968e9b-b46c-42d3-943d-0e95c488ee3e",
   "metadata": {},
   "source": [
    "### Train, Test, Split, and Scaling"
   ]
  },
  {
   "cell_type": "code",
   "execution_count": 13,
   "id": "b0bc852e-339b-496d-9492-49868bb5e996",
   "metadata": {},
   "outputs": [],
   "source": [
    "X = df1.drop('diagnosis', axis=1)\n",
    "y = df1['diagnosis']\n",
    "\n",
    "X_train, X_test, y_train, y_test = train_test_split(X, np.ravel(y), test_size=0.3, random_state=36)\n",
    "\n",
    "scaler = StandardScaler()\n",
    "scaler.fit(X_train)\n",
    "X_train = scaler.transform(X_train)\n",
    "X_test = scaler.transform(X_test)\n",
    "\n",
    "X_train = pd.DataFrame(X_train, columns=X.columns)\n",
    "X_test = pd.DataFrame(X_test, columns=X.columns)"
   ]
  },
  {
   "cell_type": "markdown",
   "id": "be8a5ea2-8dfa-43c8-914c-1eea703b631b",
   "metadata": {
    "tags": []
   },
   "source": [
    "### Modeling with a random k value of 3"
   ]
  },
  {
   "cell_type": "code",
   "execution_count": 14,
   "id": "a9af9995-f87f-4d24-a054-c72cbdae3969",
   "metadata": {},
   "outputs": [],
   "source": [
    "from sklearn.neighbors import KNeighborsClassifier"
   ]
  },
  {
   "cell_type": "code",
   "execution_count": 15,
   "id": "106a8449-1767-4fb6-afa3-712b41f40e4f",
   "metadata": {},
   "outputs": [
    {
     "data": {
      "text/html": [
       "<style>#sk-container-id-1 {color: black;background-color: white;}#sk-container-id-1 pre{padding: 0;}#sk-container-id-1 div.sk-toggleable {background-color: white;}#sk-container-id-1 label.sk-toggleable__label {cursor: pointer;display: block;width: 100%;margin-bottom: 0;padding: 0.3em;box-sizing: border-box;text-align: center;}#sk-container-id-1 label.sk-toggleable__label-arrow:before {content: \"▸\";float: left;margin-right: 0.25em;color: #696969;}#sk-container-id-1 label.sk-toggleable__label-arrow:hover:before {color: black;}#sk-container-id-1 div.sk-estimator:hover label.sk-toggleable__label-arrow:before {color: black;}#sk-container-id-1 div.sk-toggleable__content {max-height: 0;max-width: 0;overflow: hidden;text-align: left;background-color: #f0f8ff;}#sk-container-id-1 div.sk-toggleable__content pre {margin: 0.2em;color: black;border-radius: 0.25em;background-color: #f0f8ff;}#sk-container-id-1 input.sk-toggleable__control:checked~div.sk-toggleable__content {max-height: 200px;max-width: 100%;overflow: auto;}#sk-container-id-1 input.sk-toggleable__control:checked~label.sk-toggleable__label-arrow:before {content: \"▾\";}#sk-container-id-1 div.sk-estimator input.sk-toggleable__control:checked~label.sk-toggleable__label {background-color: #d4ebff;}#sk-container-id-1 div.sk-label input.sk-toggleable__control:checked~label.sk-toggleable__label {background-color: #d4ebff;}#sk-container-id-1 input.sk-hidden--visually {border: 0;clip: rect(1px 1px 1px 1px);clip: rect(1px, 1px, 1px, 1px);height: 1px;margin: -1px;overflow: hidden;padding: 0;position: absolute;width: 1px;}#sk-container-id-1 div.sk-estimator {font-family: monospace;background-color: #f0f8ff;border: 1px dotted black;border-radius: 0.25em;box-sizing: border-box;margin-bottom: 0.5em;}#sk-container-id-1 div.sk-estimator:hover {background-color: #d4ebff;}#sk-container-id-1 div.sk-parallel-item::after {content: \"\";width: 100%;border-bottom: 1px solid gray;flex-grow: 1;}#sk-container-id-1 div.sk-label:hover label.sk-toggleable__label {background-color: #d4ebff;}#sk-container-id-1 div.sk-serial::before {content: \"\";position: absolute;border-left: 1px solid gray;box-sizing: border-box;top: 0;bottom: 0;left: 50%;z-index: 0;}#sk-container-id-1 div.sk-serial {display: flex;flex-direction: column;align-items: center;background-color: white;padding-right: 0.2em;padding-left: 0.2em;position: relative;}#sk-container-id-1 div.sk-item {position: relative;z-index: 1;}#sk-container-id-1 div.sk-parallel {display: flex;align-items: stretch;justify-content: center;background-color: white;position: relative;}#sk-container-id-1 div.sk-item::before, #sk-container-id-1 div.sk-parallel-item::before {content: \"\";position: absolute;border-left: 1px solid gray;box-sizing: border-box;top: 0;bottom: 0;left: 50%;z-index: -1;}#sk-container-id-1 div.sk-parallel-item {display: flex;flex-direction: column;z-index: 1;position: relative;background-color: white;}#sk-container-id-1 div.sk-parallel-item:first-child::after {align-self: flex-end;width: 50%;}#sk-container-id-1 div.sk-parallel-item:last-child::after {align-self: flex-start;width: 50%;}#sk-container-id-1 div.sk-parallel-item:only-child::after {width: 0;}#sk-container-id-1 div.sk-dashed-wrapped {border: 1px dashed gray;margin: 0 0.4em 0.5em 0.4em;box-sizing: border-box;padding-bottom: 0.4em;background-color: white;}#sk-container-id-1 div.sk-label label {font-family: monospace;font-weight: bold;display: inline-block;line-height: 1.2em;}#sk-container-id-1 div.sk-label-container {text-align: center;}#sk-container-id-1 div.sk-container {/* jupyter's `normalize.less` sets `[hidden] { display: none; }` but bootstrap.min.css set `[hidden] { display: none !important; }` so we also need the `!important` here to be able to override the default hidden behavior on the sphinx rendered scikit-learn.org. See: https://github.com/scikit-learn/scikit-learn/issues/21755 */display: inline-block !important;position: relative;}#sk-container-id-1 div.sk-text-repr-fallback {display: none;}</style><div id=\"sk-container-id-1\" class=\"sk-top-container\"><div class=\"sk-text-repr-fallback\"><pre>KNeighborsClassifier(n_neighbors=3, weights=&#x27;distance&#x27;)</pre><b>In a Jupyter environment, please rerun this cell to show the HTML representation or trust the notebook. <br />On GitHub, the HTML representation is unable to render, please try loading this page with nbviewer.org.</b></div><div class=\"sk-container\" hidden><div class=\"sk-item\"><div class=\"sk-estimator sk-toggleable\"><input class=\"sk-toggleable__control sk-hidden--visually\" id=\"sk-estimator-id-1\" type=\"checkbox\" checked><label for=\"sk-estimator-id-1\" class=\"sk-toggleable__label sk-toggleable__label-arrow\">KNeighborsClassifier</label><div class=\"sk-toggleable__content\"><pre>KNeighborsClassifier(n_neighbors=3, weights=&#x27;distance&#x27;)</pre></div></div></div></div></div>"
      ],
      "text/plain": [
       "KNeighborsClassifier(n_neighbors=3, weights='distance')"
      ]
     },
     "execution_count": 15,
     "metadata": {},
     "output_type": "execute_result"
    }
   ],
   "source": [
    "knn = KNeighborsClassifier(n_neighbors=3, weights='distance' )\n",
    "knn.fit(X_train,y_train)"
   ]
  },
  {
   "cell_type": "code",
   "execution_count": 16,
   "id": "907776ec-63c7-48e6-bd11-6dc02dd77ba8",
   "metadata": {},
   "outputs": [],
   "source": [
    "y_pred = knn.predict(X_test)"
   ]
  },
  {
   "cell_type": "code",
   "execution_count": 17,
   "id": "6dec5e83-c0e8-4845-8830-164fdf28419e",
   "metadata": {},
   "outputs": [],
   "source": [
    "from sklearn.metrics import classification_report, confusion_matrix, ConfusionMatrixDisplay"
   ]
  },
  {
   "cell_type": "code",
   "execution_count": 18,
   "id": "c1fe691e-ec0d-4eba-937e-0208b9976b0f",
   "metadata": {},
   "outputs": [
    {
     "name": "stdout",
     "output_type": "stream",
     "text": [
      "              precision    recall  f1-score   support\n",
      "\n",
      "           B       0.94      0.98      0.96       102\n",
      "           M       0.97      0.91      0.94        69\n",
      "\n",
      "    accuracy                           0.95       171\n",
      "   macro avg       0.96      0.95      0.95       171\n",
      "weighted avg       0.95      0.95      0.95       171\n",
      "\n",
      "[[100   2]\n",
      " [  6  63]]\n"
     ]
    }
   ],
   "source": [
    "print(classification_report(y_test,y_pred))\n",
    "print(confusion_matrix(y_test,y_pred))"
   ]
  },
  {
   "cell_type": "code",
   "execution_count": 19,
   "id": "8fc40ce3-9bc6-4505-8502-22ac2a7b67be",
   "metadata": {},
   "outputs": [
    {
     "data": {
      "image/png": "[encoded data removed]",
      "text/plain": [
       "<Figure size 576x576 with 2 Axes>"
      ]
     },
     "metadata": {},
     "output_type": "display_data"
    }
   ],
   "source": [
    "cm = confusion_matrix(y_test,y_pred)\n",
    "cmd = ConfusionMatrixDisplay(cm, display_labels=['B','M'])\n",
    "fig, ax = plt.subplots(figsize=(8,8))\n",
    "cmd.plot(include_values=True, cmap='Blues', ax=ax)\n",
    "cmd.ax_.set(xlabel='Predicted', ylabel='True', autoscale_on=True)\n",
    "plt.grid(visible=None)"
   ]
  },
  {
   "cell_type": "markdown",
   "id": "e6e39d00-d93f-4602-bc64-c70bbd78e404",
   "metadata": {},
   "source": [
    "## Optimizing k-value"
   ]
  },
  {
   "cell_type": "code",
   "execution_count": 20,
   "id": "13a9136c-7771-4e8e-b826-341de715c9e3",
   "metadata": {},
   "outputs": [],
   "source": [
    "from sklearn.model_selection import cross_val_score"
   ]
  },
  {
   "cell_type": "code",
   "execution_count": 21,
   "id": "6465c11d-e045-4d1e-8e25-4f2f1ed7579d",
   "metadata": {},
   "outputs": [],
   "source": [
    "kscores = []\n",
    "\n",
    "for i in range(1,20):\n",
    "    knn = KNeighborsClassifier(n_neighbors=i)\n",
    "    scores = cross_val_score(knn, X_train, y_train, cv=140 )\n",
    "    kscores.append(scores.mean())"
   ]
  },
  {
   "cell_type": "code",
   "execution_count": 22,
   "id": "935f98c2-5107-46ae-bc80-34828634684e",
   "metadata": {},
   "outputs": [
    {
     "data": {
      "text/plain": [
       "19"
      ]
     },
     "execution_count": 22,
     "metadata": {},
     "output_type": "execute_result"
    }
   ],
   "source": [
    "len(kscores)"
   ]
  },
  {
   "cell_type": "code",
   "execution_count": 23,
   "id": "659e67f2-88b1-44be-820c-7a925816da14",
   "metadata": {},
   "outputs": [
    {
     "data": {
      "text/plain": [
       "[<matplotlib.lines.Line2D at 0x20f98bc4a00>]"
      ]
     },
     "execution_count": 23,
     "metadata": {},
     "output_type": "execute_result"
    },
    {
     "data": {
      "image/png": "[encoded data removed]",
      "text/plain": [
       "<Figure size 1080x576 with 1 Axes>"
      ]
     },
     "metadata": {},
     "output_type": "display_data"
    }
   ],
   "source": [
    "plt.figure(figsize=(15,8))\n",
    "plt.xticks(range(0,19))\n",
    "plt.xlabel('k')\n",
    "plt.ylabel('Accuracy')\n",
    "plt.title('Accuracy Mean per k-value')\n",
    "plt.plot(kscores)"
   ]
  },
  {
   "cell_type": "markdown",
   "id": "95967514-86a8-49fe-850b-b50ab592af9d",
   "metadata": {},
   "source": [
    "**+1 to the k-value where Accuracy is its highest.  This is because the count starts at 0 but 0 is really k=1**"
   ]
  },
  {
   "cell_type": "markdown",
   "id": "5fd765ae-df2a-40bc-9fa0-e62b611ab9ac",
   "metadata": {},
   "source": [
    "### The model with a more optimized k-value"
   ]
  },
  {
   "cell_type": "code",
   "execution_count": 24,
   "id": "59dc21f9-195e-4d2c-a695-4d7b93dc03dc",
   "metadata": {},
   "outputs": [
    {
     "name": "stdout",
     "output_type": "stream",
     "text": [
      "              precision    recall  f1-score   support\n",
      "\n",
      "           B       0.95      0.99      0.97       102\n",
      "           M       0.98      0.93      0.96        69\n",
      "\n",
      "    accuracy                           0.96       171\n",
      "   macro avg       0.97      0.96      0.96       171\n",
      "weighted avg       0.97      0.96      0.96       171\n",
      "\n",
      "[[101   1]\n",
      " [  5  64]]\n"
     ]
    }
   ],
   "source": [
    "knn = KNeighborsClassifier(n_neighbors=9, weights='distance' )\n",
    "knn.fit(X_train,y_train)\n",
    "\n",
    "y_pred = knn.predict(X_test)\n",
    "\n",
    "print(classification_report(y_test,y_pred))\n",
    "print(confusion_matrix(y_test,y_pred))"
   ]
  },
  {
   "cell_type": "code",
   "execution_count": 25,
   "id": "ac10151f-0e98-46b1-884f-7296acf6c179",
   "metadata": {},
   "outputs": [
    {
     "data": {
      "image/png": "[encoded data removed]",
      "text/plain": [
       "<Figure size 576x576 with 2 Axes>"
      ]
     },
     "metadata": {},
     "output_type": "display_data"
    }
   ],
   "source": [
    "cm = confusion_matrix(y_test,y_pred)\n",
    "cmd = ConfusionMatrixDisplay(cm, display_labels=['B','M'])\n",
    "fig, ax = plt.subplots(figsize=(8,8))\n",
    "cmd.plot(include_values=True, cmap='Blues', ax=ax)\n",
    "cmd.ax_.set(xlabel='Predicted', ylabel='True', autoscale_on=True)\n",
    "plt.grid(visible=None)"
   ]
  },
  {
   "cell_type": "markdown",
   "id": "ef7de6e5-2eed-4be7-8966-cbad21029459",
   "metadata": {},
   "source": [
    "# Conclusion\n",
    "\n",
    "Optimizing the KNN model from k=3 to k=9 imporved the model by reducing false positives and false negatives.  The model was rather accurate before optimization at 95% and improved its accuracy to 96%."
   ]
  },
  {
   "cell_type": "code",
   "execution_count": null,
   "id": "bb145659-5a8c-4026-8c4c-0fc06d2cf7ee",
   "metadata": {},
   "outputs": [],
   "source": []
  }
 ],
 "metadata": {
  "kernelspec": {
   "display_name": "Python [conda env:DataScience3104_1] *",
   "language": "python",
   "name": "conda-env-DataScience3104_1-py"
  },
  "language_info": {
   "codemirror_mode": {
    "name": "ipython",
    "version": 3
   },
   "file_extension": ".py",
   "mimetype": "text/x-python",
   "name": "python",
   "nbconvert_exporter": "python",
   "pygments_lexer": "ipython3",
   "version": "3.10.4"
  }
 },
 "nbformat": 4,
 "nbformat_minor": 5
}
