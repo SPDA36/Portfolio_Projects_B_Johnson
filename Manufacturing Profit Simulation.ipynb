{
 "cells": [
  {
   "cell_type": "markdown",
   "id": "8f1d57a0-1c39-4d1b-bc81-8fecde6743e8",
   "metadata": {},
   "source": [
    "# Purpose\n",
    "\n",
    "This is a simulation model for simulating profits for a manufacturing company.<br>\n",
    "<br>\n",
    "The first part walks through a single simulation for modeling profits.<br>\n",
    "The next part simulates one million trials and assesses the distribution of profits.<br>\n",
    "After that there is a risk assessment.<br>\n",
    "Finally, there is a confidence interval for the population of mean profits<br>\n",
    "and a standard deviation assessment of the range of values profits is likely to take on."
   ]
  },
  {
   "cell_type": "code",
   "execution_count": 2,
   "id": "3237cfaf",
   "metadata": {},
   "outputs": [],
   "source": [
    "# random number generation libraries\n",
    "import random\n",
    "from random import randrange\n",
    "\n",
    "# the standard data manipulation libraries\n",
    "import numpy as np\n",
    "import pandas as pd\n",
    "\n",
    "# statistical libraries\n",
    "import scipy.stats as st\n",
    "import statsmodels.api as sm\n",
    "from scipy.stats._continuous_distns import _distn_names\n",
    "\n",
    "# visualization libraries\n",
    "import matplotlib\n",
    "import matplotlib.pyplot as plt\n",
    "import seaborn as sns\n",
    "sns.set()\n",
    "\n",
    "\n",
    "# Some regional settings for this notebook\n",
    "pd.set_option('display.precision', 2)\n",
    "pd.set_option('display.float_format', lambda x: '%.3f' % x)\n"
   ]
  },
  {
   "cell_type": "markdown",
   "id": "bfd54b2f",
   "metadata": {},
   "source": [
    "# Simulation for Profit Model Walkthrough"
   ]
  },
  {
   "cell_type": "markdown",
   "id": "d0848fbd",
   "metadata": {},
   "source": [
    "## Data: Random and Known"
   ]
  },
  {
   "cell_type": "markdown",
   "id": "16901c68",
   "metadata": {},
   "source": [
    "### Single Simulation"
   ]
  },
  {
   "cell_type": "code",
   "execution_count": 3,
   "id": "0a77164e",
   "metadata": {},
   "outputs": [
    {
     "name": "stdout",
     "output_type": "stream",
     "text": [
      "          Variable Cost\n",
      "Unit Cost: 25.028957457909627\n",
      "Quantity Produced: 40000\n",
      "Variable Cost: 1001158.298316385\n",
      "\n",
      "          Quantity Sold\n",
      "Demand: 40000\n",
      "Quantity Produced: 40000\n",
      "Quantity Sold: 40000\n",
      "\n",
      "Unit Price: 40.0\n",
      "Quantity Sold: 40000\n",
      "\n",
      "          Revenue\n",
      "Revenue: 1600000.0\n",
      "\n",
      "          Profits\n",
      "Fixed Cost: 372310.4382455328\n",
      "Variable Cost: 1001158.298316385\n",
      "Profits: 226531.26343808218\n"
     ]
    }
   ],
   "source": [
    "# Some regional settings for this notebook\n",
    "pd.set_option('display.precision', 2)\n",
    "pd.set_option('display.float_format', lambda x: '%.3f' % x)\n",
    "\n",
    "########################### Variable Cost #####################################\n",
    "\n",
    "print('          Variable Cost')\n",
    "# Unit cost is randomly between $22.00 to $26.00\n",
    "ll = 22\n",
    "ul = 26\n",
    "uc = random.randint(ll,ul) + random.random()\n",
    "print('Unit Cost:', uc)\n",
    "\n",
    "\n",
    "# Quantitiy Produced - management determines how much to produce\n",
    "qp = 40000\n",
    "print('Quantity Produced:', qp)\n",
    "\n",
    "\n",
    "# Variable Cost = Quantity Produced * Unit Cost\n",
    "# vc = qp * uc\n",
    "vc = qp * uc\n",
    "print('Variable Cost:', vc)\n",
    "\n",
    "##################################################################\n",
    "print('')\n",
    "\n",
    "############################ Demand & Quantity Sold #########################\n",
    "print('          Quantity Sold')\n",
    "# Demand follows the descrete cumulative distribution\n",
    "list2 = [40000, 45000, 50000, 55000, 60000]\n",
    "\n",
    "d = random.choices(list2, cum_weights=(0.1, 0.4, 0.8, 0.95, 1), k=1)\n",
    "d = d.pop(0) # this has to be done to remove demand from a list type so it can be used with the min() function\n",
    "print('Demand:', d)\n",
    "print('Quantity Produced:', qp)\n",
    "\n",
    "\n",
    "# Quantity Sold is the minmum of Quantity Produced and Demand\n",
    "list3 = [qp, d]\n",
    "qs = min(qp, d)\n",
    "print('Quantity Sold:', qs)\n",
    "print('')\n",
    "###################################### Revenue #################################\n",
    "# Unit Price is a known value \n",
    "up = 40.00\n",
    "print('Unit Price:', up)\n",
    "print('Quantity Sold:', qs)\n",
    "print('')\n",
    "\n",
    "print('          Revenue')\n",
    "# Revenue = Unit Price * Quantity Sold\n",
    "r = up*qs\n",
    "print('Revenue:', r)\n",
    "print('')\n",
    "\n",
    "\n",
    "\n",
    "#################################################################################\n",
    "\n",
    "############################ Profits #########################################\n",
    "print('          Profits')\n",
    "# Fixed cost follows the triangle distribution\n",
    "a = 350000\n",
    "b = 500000\n",
    "c = 400000\n",
    "fc = random.triangular(a, b, c)\n",
    "print('Fixed Cost:', fc)\n",
    "\n",
    "# Profits = Revenues - Fixed Cost - Variable Cost\n",
    "p = r - fc -vc\n",
    "\n",
    "print('Variable Cost:', vc)\n",
    "print('Profits:', p)\n"
   ]
  },
  {
   "cell_type": "markdown",
   "id": "d1cc51a8",
   "metadata": {},
   "source": [
    "# Simulation: 1,000,000 trials"
   ]
  },
  {
   "cell_type": "code",
   "execution_count": 4,
   "id": "26fa1da4",
   "metadata": {},
   "outputs": [
    {
     "name": "stdout",
     "output_type": "stream",
     "text": [
      "          profits\n",
      "count 1000000.000\n",
      "mean   203326.099\n",
      "std     65600.015\n",
      "min     21926.853\n",
      "25%    153117.978\n",
      "50%    203308.147\n",
      "75%    254189.199\n",
      "max    368479.295\n"
     ]
    },
    {
     "data": {
      "image/png": "[encoded data removed]",
      "text/plain": [
       "<Figure size 720x720 with 1 Axes>"
      ]
     },
     "metadata": {
      "needs_background": "light"
     },
     "output_type": "display_data"
    },
    {
     "data": {
      "image/png": "[encoded data removed]",
      "text/plain": [
       "<Figure size 720x720 with 1 Axes>"
      ]
     },
     "metadata": {
      "needs_background": "light"
     },
     "output_type": "display_data"
    }
   ],
   "source": [
    "simulations = 1000000\n",
    "counter = simulations\n",
    "profit = []\n",
    "\n",
    "while counter > 0:\n",
    "    # Unit cost is randomly between $22.00 to $26.00\n",
    "    ll = 22\n",
    "    ul = 26\n",
    "    uc = random.randint(ll,ul) + random.random()\n",
    "    \n",
    "    # Quantity Produced - management determines how much to produce\n",
    "    qp = 40000\n",
    "    # Variable Cost = Quantity Produced * Unit Cost\n",
    "    # vc = qp * uc\n",
    "    vc = qp * uc\n",
    "    \n",
    "    # Demand follows the discrete cumulative distribution\n",
    "    list2 = [40000, 45000, 50000, 55000, 60000]\n",
    "    d = random.choices(list2, cum_weights=(0.1, 0.4, 0.8, 0.95, 1), k=1)\n",
    "    d = d.pop(0)\n",
    "    \n",
    "    # Quantity Sold is the minimum of Quantity Produced and Demand\n",
    "    list3 = [qp, d]\n",
    "    qs = min(qp, d)\n",
    "    \n",
    "    # Unit Price is a known value \n",
    "    up = 40.00\n",
    "    \n",
    "    # Revenue = Unit Price * Quantity Sold\n",
    "    r = up*qs\n",
    "    \n",
    "    # Fixed cost follows the triangle distribution\n",
    "    a = 350000\n",
    "    b = 500000\n",
    "    c = 400000\n",
    "    fc = random.triangular(a, b, c)\n",
    "    \n",
    "    # Profits = Revenues - Fixed Cost - Variable Cost\n",
    "    p = r - fc -vc\n",
    "    \n",
    "    profit.append(p)\n",
    "    counter = counter - 1\n",
    "\n",
    "df1 = pd.DataFrame(profit)\n",
    "df1.columns = ['profits']\n",
    "print(df1.describe())\n",
    "\n",
    "x1 = df1['profits']\n",
    "\n",
    "\n",
    "#################### Visualization ############################\n",
    "\n",
    "plt.figure(figsize=(10,10))\n",
    "sns.histplot(df1, x='profits', bins= 30,  kde = True)\n",
    "\n",
    "mean = x1.mean()\n",
    "median = x1.median()\n",
    "qtr1 = np.percentile(x1, 25)\n",
    "qtr3 = np.percentile(x1,75)\n",
    "plt.axvline(mean, 0,1, color = 'red', label='mean')\n",
    "plt.axvline(median, 0,1, color = 'blue', label='median')\n",
    "plt.axvline(qtr1, 0,1, color ='yellow', label='1st quartile')\n",
    "plt.axvline(qtr3, 0,1, color ='orange', label='3rd quartile')\n",
    "\n",
    "plt.xlabel('profits', fontsize=15)\n",
    "plt.ylabel('Counts', fontsize=15)\n",
    "plt.legend(loc='upper left', fontsize=15)\n",
    "\n",
    "plt.show()\n",
    "\n",
    "plt.figure(figsize=(10,10))\n",
    "ax = sns.boxplot(x='profits', data=df1, color = '#42FAF2')\n"
   ]
  },
  {
   "cell_type": "markdown",
   "id": "c836a1eb",
   "metadata": {},
   "source": [
    "# Fitting the Simulation Results to a Distribution"
   ]
  },
  {
   "cell_type": "code",
   "execution_count": 5,
   "id": "a3ebf2e3",
   "metadata": {},
   "outputs": [
    {
     "data": {
      "image/png": "[encoded data removed]",
      "text/plain": [
       "<Figure size 540x360 with 1 Axes>"
      ]
     },
     "metadata": {},
     "output_type": "display_data"
    },
    {
     "name": "stdout",
     "output_type": "stream",
     "text": [
      "Different Distributions: ['_fit', 'alpha', 'anglit', 'arcsine', 'argus', 'beta', 'betaprime', 'bradford', 'burr', 'burr12', 'cauchy', 'chi', 'chi2', 'cosine', 'crystalball', 'dgamma', 'dweibull', 'erlang', 'expon', 'exponnorm', 'exponpow', 'exponweib', 'f', 'fatiguelife', 'fisk', 'foldcauchy', 'foldnorm', 'gamma', 'gausshyper', 'genexpon', 'genextreme', 'gengamma', 'genhalflogistic', 'genhyperbolic', 'geninvgauss', 'genlogistic', 'gennorm', 'genpareto', 'gibrat', 'gilbrat', 'gompertz', 'gumbel_l', 'gumbel_r', 'halfcauchy', 'halfgennorm', 'halflogistic', 'halfnorm', 'hypsecant', 'invgamma', 'invgauss', 'invweibull', 'johnsonsb', 'johnsonsu', 'kappa3', 'kappa4', 'ksone', 'kstwo', 'kstwobign', 'laplace', 'laplace_asymmetric', 'levy', 'levy_l', 'levy_stable', 'loggamma', 'logistic', 'loglaplace', 'lognorm', 'loguniform', 'lomax', 'maxwell', 'mielke', 'moyal', 'nakagami', 'ncf', 'nct', 'ncx2', 'norm', 'norminvgauss', 'pareto', 'pearson3', 'powerlaw', 'powerlognorm', 'powernorm', 'rayleigh', 'rdist', 'recipinvgauss', 'reciprocal', 'rice', 'rv_continuous', 'rv_histogram', 'semicircular', 'skewcauchy', 'skewnorm', 'studentized_range', 't', 'trapezoid', 'trapz', 'triang', 'truncexpon', 'truncnorm', 'truncweibull_min', 'tukeylambda', 'uniform', 'vonmises', 'vonmises_line', 'wald', 'weibull_max', 'weibull_min', 'wrapcauchy']\n"
     ]
    },
    {
     "name": "stderr",
     "output_type": "stream",
     "text": [
      "WARNING:root:SKIPPED burr distribution (taking more than 30 seconds)\n",
      "WARNING:root:SKIPPED beta distribution (taking more than 30 seconds)\n",
      "WARNING:fitter.fitter:burr was not fitted. no parameters available\n",
      "WARNING:fitter.fitter:beta was not fitted. no parameters available\n"
     ]
    },
    {
     "data": {
      "text/html": [
       "<div>\n",
       "<style scoped>\n",
       "    .dataframe tbody tr th:only-of-type {\n",
       "        vertical-align: middle;\n",
       "    }\n",
       "\n",
       "    .dataframe tbody tr th {\n",
       "        vertical-align: top;\n",
       "    }\n",
       "\n",
       "    .dataframe thead th {\n",
       "        text-align: right;\n",
       "    }\n",
       "</style>\n",
       "<table border=\"1\" class=\"dataframe\">\n",
       "  <thead>\n",
       "    <tr style=\"text-align: right;\">\n",
       "      <th></th>\n",
       "      <th>sumsquare_error</th>\n",
       "      <th>aic</th>\n",
       "      <th>bic</th>\n",
       "      <th>kl_div</th>\n",
       "    </tr>\n",
       "  </thead>\n",
       "  <tbody>\n",
       "    <tr>\n",
       "      <th>gamma</th>\n",
       "      <td>0.000</td>\n",
       "      <td>2642.532</td>\n",
       "      <td>-38090750.450</td>\n",
       "      <td>0.023</td>\n",
       "    </tr>\n",
       "    <tr>\n",
       "      <th>norm</th>\n",
       "      <td>0.000</td>\n",
       "      <td>2640.132</td>\n",
       "      <td>-38086890.637</td>\n",
       "      <td>0.023</td>\n",
       "    </tr>\n",
       "    <tr>\n",
       "      <th>burr</th>\n",
       "      <td>inf</td>\n",
       "      <td>inf</td>\n",
       "      <td>inf</td>\n",
       "      <td>inf</td>\n",
       "    </tr>\n",
       "    <tr>\n",
       "      <th>beta</th>\n",
       "      <td>inf</td>\n",
       "      <td>inf</td>\n",
       "      <td>inf</td>\n",
       "      <td>inf</td>\n",
       "    </tr>\n",
       "  </tbody>\n",
       "</table>\n",
       "</div>"
      ],
      "text/plain": [
       "       sumsquare_error      aic           bic  kl_div\n",
       "gamma            0.000 2642.532 -38090750.450   0.023\n",
       "norm             0.000 2640.132 -38086890.637   0.023\n",
       "burr               inf      inf           inf     inf\n",
       "beta               inf      inf           inf     inf"
      ]
     },
     "execution_count": 5,
     "metadata": {},
     "output_type": "execute_result"
    },
    {
     "data": {
      "image/png": "[encoded data removed]",
      "text/plain": [
       "<Figure size 432x288 with 1 Axes>"
      ]
     },
     "metadata": {},
     "output_type": "display_data"
    }
   ],
   "source": [
    "# Libraries to import\n",
    "import numpy as np\n",
    "import pandas as pd\n",
    "import matplotlib.pyplot as plt\n",
    "import seaborn as sns\n",
    "from fitter import Fitter, get_common_distributions, get_distributions\n",
    "\n",
    "# assign a new dataframe to = the results from above\n",
    "dataset = df1.copy()\n",
    "\n",
    "# select column in dataset to model\n",
    "data1 = dataset['profits']\n",
    "data2 = dataset['profits'].values\n",
    "\n",
    "\n",
    "# Histogram settings\n",
    "sns.set_style('white')\n",
    "sns.set_context(\"paper\", font_scale = 1.5)\n",
    "sns.displot(data= dataset, x= data1, kind= 'hist', bins = 10, kde= True, aspect = 1.5)\n",
    "plt.show()\n",
    "\n",
    "\n",
    "# select distributions to model fit\n",
    "print('Different Distributions:', get_distributions())\n",
    "f = Fitter(data2, distributions=['gamma', 'beta', 'burr', 'norm'])\n",
    "f.fit()\n",
    "f.summary()"
   ]
  },
  {
   "cell_type": "markdown",
   "id": "6a529641",
   "metadata": {},
   "source": [
    "# Risk Assessment"
   ]
  },
  {
   "cell_type": "code",
   "execution_count": 8,
   "id": "964ebe0d",
   "metadata": {},
   "outputs": [
    {
     "data": {
      "text/html": [
       "<div>\n",
       "<style scoped>\n",
       "    .dataframe tbody tr th:only-of-type {\n",
       "        vertical-align: middle;\n",
       "    }\n",
       "\n",
       "    .dataframe tbody tr th {\n",
       "        vertical-align: top;\n",
       "    }\n",
       "\n",
       "    .dataframe thead th {\n",
       "        text-align: right;\n",
       "    }\n",
       "</style>\n",
       "<table border=\"1\" class=\"dataframe\">\n",
       "  <thead>\n",
       "    <tr style=\"text-align: right;\">\n",
       "      <th></th>\n",
       "      <th>profits</th>\n",
       "    </tr>\n",
       "  </thead>\n",
       "  <tbody>\n",
       "    <tr>\n",
       "      <th>0</th>\n",
       "      <td>200441.596</td>\n",
       "    </tr>\n",
       "    <tr>\n",
       "      <th>1</th>\n",
       "      <td>246388.572</td>\n",
       "    </tr>\n",
       "    <tr>\n",
       "      <th>2</th>\n",
       "      <td>276709.486</td>\n",
       "    </tr>\n",
       "    <tr>\n",
       "      <th>3</th>\n",
       "      <td>129896.265</td>\n",
       "    </tr>\n",
       "    <tr>\n",
       "      <th>4</th>\n",
       "      <td>124588.065</td>\n",
       "    </tr>\n",
       "  </tbody>\n",
       "</table>\n",
       "</div>"
      ],
      "text/plain": [
       "     profits\n",
       "0 200441.596\n",
       "1 246388.572\n",
       "2 276709.486\n",
       "3 129896.265\n",
       "4 124588.065"
      ]
     },
     "execution_count": 8,
     "metadata": {},
     "output_type": "execute_result"
    }
   ],
   "source": [
    "# Double check the data is present in the dataframe\n",
    "df1.head()"
   ]
  },
  {
   "cell_type": "code",
   "execution_count": 9,
   "id": "3a519cd0",
   "metadata": {},
   "outputs": [
    {
     "data": {
      "text/html": [
       "<div>\n",
       "<style scoped>\n",
       "    .dataframe tbody tr th:only-of-type {\n",
       "        vertical-align: middle;\n",
       "    }\n",
       "\n",
       "    .dataframe tbody tr th {\n",
       "        vertical-align: top;\n",
       "    }\n",
       "\n",
       "    .dataframe thead th {\n",
       "        text-align: right;\n",
       "    }\n",
       "</style>\n",
       "<table border=\"1\" class=\"dataframe\">\n",
       "  <thead>\n",
       "    <tr style=\"text-align: right;\">\n",
       "      <th></th>\n",
       "      <th>profits</th>\n",
       "    </tr>\n",
       "  </thead>\n",
       "  <tbody>\n",
       "    <tr>\n",
       "      <th>0</th>\n",
       "      <td>200441.596</td>\n",
       "    </tr>\n",
       "    <tr>\n",
       "      <th>1</th>\n",
       "      <td>246388.572</td>\n",
       "    </tr>\n",
       "    <tr>\n",
       "      <th>2</th>\n",
       "      <td>276709.486</td>\n",
       "    </tr>\n",
       "    <tr>\n",
       "      <th>3</th>\n",
       "      <td>129896.265</td>\n",
       "    </tr>\n",
       "    <tr>\n",
       "      <th>4</th>\n",
       "      <td>124588.065</td>\n",
       "    </tr>\n",
       "  </tbody>\n",
       "</table>\n",
       "</div>"
      ],
      "text/plain": [
       "     profits\n",
       "0 200441.596\n",
       "1 246388.572\n",
       "2 276709.486\n",
       "3 129896.265\n",
       "4 124588.065"
      ]
     },
     "execution_count": 9,
     "metadata": {},
     "output_type": "execute_result"
    }
   ],
   "source": [
    "df2 = df1.copy()\n",
    "df2.head()"
   ]
  },
  {
   "cell_type": "code",
   "execution_count": 10,
   "id": "28467dfd",
   "metadata": {},
   "outputs": [
    {
     "data": {
      "text/html": [
       "<div>\n",
       "<style scoped>\n",
       "    .dataframe tbody tr th:only-of-type {\n",
       "        vertical-align: middle;\n",
       "    }\n",
       "\n",
       "    .dataframe tbody tr th {\n",
       "        vertical-align: top;\n",
       "    }\n",
       "\n",
       "    .dataframe thead th {\n",
       "        text-align: right;\n",
       "    }\n",
       "</style>\n",
       "<table border=\"1\" class=\"dataframe\">\n",
       "  <thead>\n",
       "    <tr style=\"text-align: right;\">\n",
       "      <th></th>\n",
       "      <th>profits</th>\n",
       "    </tr>\n",
       "  </thead>\n",
       "  <tbody>\n",
       "    <tr>\n",
       "      <th>0</th>\n",
       "      <td>1.000</td>\n",
       "    </tr>\n",
       "    <tr>\n",
       "      <th>1</th>\n",
       "      <td>1.000</td>\n",
       "    </tr>\n",
       "    <tr>\n",
       "      <th>2</th>\n",
       "      <td>1.000</td>\n",
       "    </tr>\n",
       "    <tr>\n",
       "      <th>3</th>\n",
       "      <td>1.000</td>\n",
       "    </tr>\n",
       "    <tr>\n",
       "      <th>4</th>\n",
       "      <td>0.000</td>\n",
       "    </tr>\n",
       "    <tr>\n",
       "      <th>...</th>\n",
       "      <td>...</td>\n",
       "    </tr>\n",
       "    <tr>\n",
       "      <th>999995</th>\n",
       "      <td>1.000</td>\n",
       "    </tr>\n",
       "    <tr>\n",
       "      <th>999996</th>\n",
       "      <td>1.000</td>\n",
       "    </tr>\n",
       "    <tr>\n",
       "      <th>999997</th>\n",
       "      <td>1.000</td>\n",
       "    </tr>\n",
       "    <tr>\n",
       "      <th>999998</th>\n",
       "      <td>1.000</td>\n",
       "    </tr>\n",
       "    <tr>\n",
       "      <th>999999</th>\n",
       "      <td>1.000</td>\n",
       "    </tr>\n",
       "  </tbody>\n",
       "</table>\n",
       "<p>1000000 rows × 1 columns</p>\n",
       "</div>"
      ],
      "text/plain": [
       "        profits\n",
       "0         1.000\n",
       "1         1.000\n",
       "2         1.000\n",
       "3         1.000\n",
       "4         0.000\n",
       "...         ...\n",
       "999995    1.000\n",
       "999996    1.000\n",
       "999997    1.000\n",
       "999998    1.000\n",
       "999999    1.000\n",
       "\n",
       "[1000000 rows x 1 columns]"
      ]
     },
     "execution_count": 10,
     "metadata": {},
     "output_type": "execute_result"
    }
   ],
   "source": [
    "\n",
    "# The lowest acceptable profit level\n",
    "# The profit cut off level selected is:\n",
    "cutoff = 125000\n",
    "\n",
    "# Binning into binary values based off conditions:\n",
    "df2.loc[df2.profits < cutoff, 'profits'] = 0\n",
    "df2.loc[df2.profits >= cutoff, 'profits'] = 1\n",
    "\n",
    "# Grouping and counting\n",
    "df2.groupby('profits').agg({'profits':[('counts', 'count')]})\n",
    "\n",
    "df3 = df2.copy()\n",
    "df3\n"
   ]
  },
  {
   "cell_type": "code",
   "execution_count": 11,
   "id": "b16f313f",
   "metadata": {},
   "outputs": [
    {
     "name": "stdout",
     "output_type": "stream",
     "text": [
      "The count of values above $ 125000 in profit is 871269.0 out of 1000000\n",
      "\n",
      "The count of values below $ 125000 in profit is 128731.0 out of 1000000\n",
      "\n",
      "The simulated outcome of profits being above $ 125000 is 87.13 %\n",
      "\n",
      "The simulated outcome of profits being below $ 125000 is 12.87 %\n"
     ]
    }
   ],
   "source": [
    "# Since 1 = above profit cut off, the sum here is a\n",
    "# count of every occurance above the profit cut off\n",
    "\n",
    "df3.columns = ['counts']\n",
    "favorable = df3['counts'].sum()\n",
    "risksum = simulations - favorable\n",
    "\n",
    "print('The count of values above $', cutoff, 'in profit is', favorable, 'out of', simulations)\n",
    "print('')\n",
    "print('The count of values below $', cutoff, 'in profit is', risksum, 'out of', simulations)\n",
    "print('')\n",
    "print('The simulated outcome of profits being above $', cutoff, 'is', round(favorable/simulations*100, 2), '%')\n",
    "print('')\n",
    "print('The simulated outcome of profits being below $', cutoff, 'is', round(risksum/simulations*100, 2),'%')"
   ]
  },
  {
   "cell_type": "markdown",
   "id": "c230d5cd",
   "metadata": {},
   "source": [
    "# Confidence Interval for the Population Mean Profit"
   ]
  },
  {
   "cell_type": "code",
   "execution_count": 13,
   "id": "374175d2",
   "metadata": {},
   "outputs": [
    {
     "data": {
      "text/plain": [
       "(203323.52323780535, 203328.67491607874)"
      ]
     },
     "execution_count": 13,
     "metadata": {},
     "output_type": "execute_result"
    }
   ],
   "source": [
    "st.t.interval(confidence= .99, loc=df1['profits'].mean(), df=499999)"
   ]
  },
  {
   "cell_type": "code",
   "execution_count": 14,
   "id": "cfe0e57a",
   "metadata": {},
   "outputs": [
    {
     "name": "stdout",
     "output_type": "stream",
     "text": [
      "          profits\n",
      "count 1000000.000\n",
      "mean   203326.099\n",
      "std     65600.015\n",
      "min     21926.853\n",
      "25%    153117.978\n",
      "50%    203308.147\n",
      "75%    254189.199\n",
      "max    368479.295\n"
     ]
    }
   ],
   "source": [
    "print(df1.describe())"
   ]
  },
  {
   "cell_type": "markdown",
   "id": "e442c7f6-938f-4f46-8b0b-f05683b6f34d",
   "metadata": {},
   "source": [
    "# Mean +- 1 Standard Deviation"
   ]
  },
  {
   "cell_type": "code",
   "execution_count": 15,
   "id": "39cc9741",
   "metadata": {},
   "outputs": [
    {
     "name": "stdout",
     "output_type": "stream",
     "text": [
      "the mean + 1 SD = 268926.11429261614\n",
      "the mean - 1 SD = 137726.08386126798\n"
     ]
    }
   ],
   "source": [
    "mean = df1['profits'].mean()\n",
    "sd = df1['profits'].std()\n",
    "\n",
    "print('the mean + 1 SD =', mean+sd)\n",
    "print('the mean - 1 SD =', mean-sd)"
   ]
  },
  {
   "cell_type": "code",
   "execution_count": null,
   "id": "bcd086bf",
   "metadata": {},
   "outputs": [],
   "source": []
  },
  {
   "cell_type": "markdown",
   "id": "3bc8d2a2-d0f0-47b0-ad17-5f3e1a7b2d82",
   "metadata": {},
   "source": [
    "# Conclusion"
   ]
  },
  {
   "cell_type": "markdown",
   "id": "2cd3739d-ea35-4a6c-b42e-7a008c2eac13",
   "metadata": {},
   "source": [
    "The risk assessment shows that profits are 87% likely to be above $125,000.<br>\n",
    "The values profts might take one within +-1 standard deviation  from the population mean are between 137,726 and 268,926 dollars"
   ]
  },
  {
   "cell_type": "code",
   "execution_count": null,
   "id": "8a240c86",
   "metadata": {},
   "outputs": [],
   "source": []
  },
  {
   "cell_type": "code",
   "execution_count": null,
   "id": "3aac329a",
   "metadata": {},
   "outputs": [],
   "source": []
  }
 ],
 "metadata": {
  "kernelspec": {
   "display_name": "DataScienceEnv3912",
   "language": "python",
   "name": "datascienceenv3912"
  },
  "language_info": {
   "codemirror_mode": {
    "name": "ipython",
    "version": 3
   },
   "file_extension": ".py",
   "mimetype": "text/x-python",
   "name": "python",
   "nbconvert_exporter": "python",
   "pygments_lexer": "ipython3",
   "version": "3.9.12"
  }
 },
 "nbformat": 4,
 "nbformat_minor": 5
}
